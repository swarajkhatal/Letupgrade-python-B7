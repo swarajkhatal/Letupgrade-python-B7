{
 "cells": [
  {
   "cell_type": "markdown",
   "metadata": {},
   "source": [
    "# OPERATOR"
   ]
  },
  {
   "cell_type": "code",
   "execution_count": 134,
   "metadata": {},
   "outputs": [],
   "source": [
    "a = 150\n",
    "b = 150"
   ]
  },
  {
   "cell_type": "code",
   "execution_count": 135,
   "metadata": {},
   "outputs": [
    {
     "data": {
      "text/plain": [
       "False"
      ]
     },
     "execution_count": 135,
     "metadata": {},
     "output_type": "execute_result"
    }
   ],
   "source": [
    "a != b"
   ]
  },
  {
   "cell_type": "code",
   "execution_count": 136,
   "metadata": {},
   "outputs": [
    {
     "data": {
      "text/plain": [
       "True"
      ]
     },
     "execution_count": 136,
     "metadata": {},
     "output_type": "execute_result"
    }
   ],
   "source": [
    "a == b"
   ]
  },
  {
   "cell_type": "code",
   "execution_count": 137,
   "metadata": {},
   "outputs": [],
   "source": [
    "m = 120\n",
    "n = 130"
   ]
  },
  {
   "cell_type": "code",
   "execution_count": 138,
   "metadata": {},
   "outputs": [
    {
     "data": {
      "text/plain": [
       "False"
      ]
     },
     "execution_count": 138,
     "metadata": {},
     "output_type": "execute_result"
    }
   ],
   "source": [
    "m == n"
   ]
  },
  {
   "cell_type": "code",
   "execution_count": 139,
   "metadata": {},
   "outputs": [
    {
     "data": {
      "text/plain": [
       "True"
      ]
     },
     "execution_count": 139,
     "metadata": {},
     "output_type": "execute_result"
    }
   ],
   "source": [
    "m != n"
   ]
  },
  {
   "cell_type": "code",
   "execution_count": 140,
   "metadata": {},
   "outputs": [
    {
     "data": {
      "text/plain": [
       "True"
      ]
     },
     "execution_count": 140,
     "metadata": {},
     "output_type": "execute_result"
    }
   ],
   "source": [
    "m < n"
   ]
  },
  {
   "cell_type": "code",
   "execution_count": 141,
   "metadata": {},
   "outputs": [
    {
     "data": {
      "text/plain": [
       "False"
      ]
     },
     "execution_count": 141,
     "metadata": {},
     "output_type": "execute_result"
    }
   ],
   "source": [
    "m > a"
   ]
  },
  {
   "cell_type": "code",
   "execution_count": 142,
   "metadata": {},
   "outputs": [
    {
     "data": {
      "text/plain": [
       "True"
      ]
     },
     "execution_count": 142,
     "metadata": {},
     "output_type": "execute_result"
    }
   ],
   "source": [
    "m <= n"
   ]
  },
  {
   "cell_type": "code",
   "execution_count": 143,
   "metadata": {},
   "outputs": [
    {
     "data": {
      "text/plain": [
       "True"
      ]
     },
     "execution_count": 143,
     "metadata": {},
     "output_type": "execute_result"
    }
   ],
   "source": [
    "b >= n"
   ]
  },
  {
   "cell_type": "markdown",
   "metadata": {},
   "source": [
    "# LOGICAL COMPRESSION STATEMENT"
   ]
  },
  {
   "cell_type": "code",
   "execution_count": 144,
   "metadata": {},
   "outputs": [],
   "source": [
    "Mobile = True\n",
    "PC = False"
   ]
  },
  {
   "cell_type": "code",
   "execution_count": 145,
   "metadata": {},
   "outputs": [],
   "source": [
    "ONLINELECTURE = Mobile and PC"
   ]
  },
  {
   "cell_type": "code",
   "execution_count": 146,
   "metadata": {},
   "outputs": [],
   "source": [
    " FACEBOOK = Mobile or PC"
   ]
  },
  {
   "cell_type": "code",
   "execution_count": 147,
   "metadata": {},
   "outputs": [
    {
     "data": {
      "text/plain": [
       "False"
      ]
     },
     "execution_count": 147,
     "metadata": {},
     "output_type": "execute_result"
    }
   ],
   "source": [
    "ONLINELECTURE"
   ]
  },
  {
   "cell_type": "code",
   "execution_count": 148,
   "metadata": {},
   "outputs": [
    {
     "data": {
      "text/plain": [
       "True"
      ]
     },
     "execution_count": 148,
     "metadata": {},
     "output_type": "execute_result"
    }
   ],
   "source": [
    " FACEBOOK"
   ]
  },
  {
   "cell_type": "code",
   "execution_count": 149,
   "metadata": {},
   "outputs": [
    {
     "name": "stdout",
     "output_type": "stream",
     "text": [
      "False\n"
     ]
    }
   ],
   "source": [
    "print(not Mobile)"
   ]
  },
  {
   "cell_type": "code",
   "execution_count": 150,
   "metadata": {},
   "outputs": [
    {
     "name": "stdout",
     "output_type": "stream",
     "text": [
      "False\n"
     ]
    }
   ],
   "source": [
    "print(PC)"
   ]
  },
  {
   "cell_type": "markdown",
   "metadata": {},
   "source": [
    "# Chined Compression operator"
   ]
  },
  {
   "cell_type": "code",
   "execution_count": 151,
   "metadata": {},
   "outputs": [],
   "source": [
    "Tomato = 35\n",
    "Potato = 30\n",
    "Ginger = 24"
   ]
  },
  {
   "cell_type": "code",
   "execution_count": 152,
   "metadata": {},
   "outputs": [
    {
     "data": {
      "text/plain": [
       "True"
      ]
     },
     "execution_count": 152,
     "metadata": {},
     "output_type": "execute_result"
    }
   ],
   "source": [
    "Tomato > 30 and Potato >25 and Ginger <30\n"
   ]
  },
  {
   "cell_type": "code",
   "execution_count": 153,
   "metadata": {},
   "outputs": [
    {
     "data": {
      "text/plain": [
       "False"
      ]
     },
     "execution_count": 153,
     "metadata": {},
     "output_type": "execute_result"
    }
   ],
   "source": [
    "Tomato < 30 and Potato < 30 and Ginger > 30"
   ]
  },
  {
   "cell_type": "code",
   "execution_count": 154,
   "metadata": {},
   "outputs": [
    {
     "data": {
      "text/plain": [
       "True"
      ]
     },
     "execution_count": 154,
     "metadata": {},
     "output_type": "execute_result"
    }
   ],
   "source": [
    "Tomato > 20 or Potato >= 30 and Ginger < 30"
   ]
  },
  {
   "cell_type": "markdown",
   "metadata": {},
   "source": [
    "# IF ELIF ELSE"
   ]
  },
  {
   "cell_type": "code",
   "execution_count": 155,
   "metadata": {},
   "outputs": [],
   "source": [
    "BJP = 105\n",
    "NCP = 54\n",
    "INC = 44\n",
    "SS  = 56"
   ]
  },
  {
   "cell_type": "code",
   "execution_count": 156,
   "metadata": {},
   "outputs": [
    {
     "name": "stdout",
     "output_type": "stream",
     "text": [
      "GOVERMENT OF BJP in MH\n"
     ]
    }
   ],
   "source": [
    "if BJP + SS > 145 :\n",
    "    print(\"GOVERMENT OF BJP in MH\")\n",
    "else :\n",
    "    print(\"GOVERMENT OF OTHER\")\n"
   ]
  },
  {
   "cell_type": "code",
   "execution_count": 157,
   "metadata": {},
   "outputs": [
    {
     "name": "stdout",
     "output_type": "stream",
     "text": [
      "MAHAVIKASAGHADI\n"
     ]
    }
   ],
   "source": [
    "if NCP + INC > 145 :\n",
    "    print(\"GOVERMENT OF NCP in MH\")\n",
    "elif NCP + SS > 145 :\n",
    "    print(\"GOVERMENT OF NCP+SS in MH\")\n",
    "elif NCP + SS + INC > 145 :\n",
    "        \n",
    "    print(\"MAHAVIKASAGHADI\")\n",
    "elif BJP > 145 :\n",
    "    print (\"BJP GOVERMEMNT\")\n",
    "else :\n",
    "    print(\"STATE EMERGENCY\")\n",
    "        \n",
    "    \n",
    "    \n"
   ]
  },
  {
   "cell_type": "code",
   "execution_count": 161,
   "metadata": {},
   "outputs": [
    {
     "name": "stdout",
     "output_type": "stream",
     "text": [
      "ENTER ANY NO = 12\n",
      "THIS IS EVEN\n"
     ]
    }
   ],
   "source": [
    "Number = input(\"ENTER ANY NO = \")\n",
    "Number = int(Number)\n",
    "if Number % 2 == 0 :\n",
    "    print(\"THIS IS EVEN\")\n",
    "else:\n",
    "    print(\"ODD\")\n"
   ]
  },
  {
   "cell_type": "code",
   "execution_count": 163,
   "metadata": {},
   "outputs": [
    {
     "name": "stdout",
     "output_type": "stream",
     "text": [
      "Enter your GATE SCORE =  785\n",
      "IIT G , KH, K\n"
     ]
    }
   ],
   "source": [
    "N1 = input(\"Enter your GATE SCORE =  \")\n",
    "N1 = int(N1)\n",
    "if N1 > 900:\n",
    "    Print(\"IISC Banglore and Psu\")\n",
    "elif 850 < N1 < 900 :\n",
    "    print(\"IIT BOMBAY MADRAS DELHI\")\n",
    "elif 750 < N1 < 850 :\n",
    "    print(\"IIT G , KH, K\")\n",
    "elif 600 < N1 < 750 :\n",
    "    print(\"NIT\")\n",
    "else :\n",
    "    print(\"JUST QUALIFY\")\n",
    "            \n"
   ]
  },
  {
   "cell_type": "markdown",
   "metadata": {},
   "source": [
    "# LOOPS"
   ]
  },
  {
   "cell_type": "code",
   "execution_count": 201,
   "metadata": {},
   "outputs": [
    {
     "name": "stdout",
     "output_type": "stream",
     "text": [
      "ENTER YOUR NUMBER=   36\n",
      "36\n",
      "72\n",
      "108\n",
      "144\n",
      "180\n",
      "216\n",
      "252\n",
      "288\n",
      "324\n",
      "360\n"
     ]
    }
   ],
   "source": [
    "N2 = input(\"ENTER YOUR NUMBER=   \")\n",
    "N2 = int(N2)\n",
    "for i in range(1,11):\n",
    "    print(N2*i)\n",
    "    i = i + 1\n",
    "    "
   ]
  },
  {
   "cell_type": "code",
   "execution_count": 170,
   "metadata": {},
   "outputs": [
    {
     "name": "stdout",
     "output_type": "stream",
     "text": [
      "1 IS ODD\n",
      "2 IS EVEN\n",
      "3 IS ODD\n",
      "4 IS EVEN\n",
      "5 IS ODD\n",
      "6 IS EVEN\n",
      "7 IS ODD\n",
      "8 IS EVEN\n",
      "9 IS ODD\n",
      "10 IS EVEN\n"
     ]
    }
   ],
   "source": [
    "for i in range(1,11):\n",
    "    if i % 2 == 0:\n",
    "        print(i,\"IS EVEN\")\n",
    "    else :\n",
    "        print(i,\"IS ODD\")"
   ]
  },
  {
   "cell_type": "markdown",
   "metadata": {},
   "source": [
    "# ASSIGNMENT QUESTION"
   ]
  },
  {
   "cell_type": "code",
   "execution_count": 174,
   "metadata": {},
   "outputs": [
    {
     "name": "stdout",
     "output_type": "stream",
     "text": [
      "ENTER CURRENT ALTITUDE OF PLANE =  2633\n",
      "BRING DOWN TO 1000\n"
     ]
    }
   ],
   "source": [
    "N4 = input(\"ENTER CURRENT ALTITUDE OF PLANE =  \")\n",
    "N4 = int(N4)\n",
    "if N4 <= 1000:\n",
    "    print(\"SAFE TO LAND \")\n",
    "elif 1000 < N4 <= 5000:\n",
    "    print(\"BRING DOWN TO 1000\")\n",
    "else :\n",
    "    print(\"TURN AROUND AND TRY LATER\")"
   ]
  },
  {
   "cell_type": "code",
   "execution_count": 1,
   "metadata": {},
   "outputs": [
    {
     "name": "stdout",
     "output_type": "stream",
     "text": [
      " 2\n",
      "  3\n",
      "  5\n",
      "  7\n",
      "  11\n",
      "  13\n",
      "  17\n",
      "  19\n",
      "  23\n",
      "  29\n",
      "  31\n",
      "  37\n",
      "  41\n",
      "  43\n",
      "  47\n",
      "  53\n",
      "  59\n",
      "  61\n",
      "  67\n",
      "  71\n",
      "  73\n",
      "  79\n",
      "  83\n",
      "  89\n",
      "  97\n",
      "  101\n",
      "  103\n",
      "  107\n",
      "  109\n",
      "  113\n",
      "  127\n",
      "  131\n",
      "  137\n",
      "  139\n",
      "  149\n",
      "  151\n",
      "  157\n",
      "  163\n",
      "  167\n",
      "  173\n",
      "  179\n",
      "  181\n",
      "  191\n",
      "  193\n",
      "  197\n",
      "  199\n",
      " "
     ]
    }
   ],
   "source": [
    "for Number in range (1, 200):\n",
    "    count = 0\n",
    "    for i in range(2, (Number//2 + 1)):\n",
    "        if(Number % i == 0):\n",
    "            count = count + 1\n",
    "            break\n",
    "\n",
    "    if (count == 0 and Number != 1):\n",
    "        print(\" %d\" %Number, end = '\\n ')\n"
   ]
  }
 ],
 "metadata": {
  "kernelspec": {
   "display_name": "Python 3",
   "language": "python",
   "name": "python3"
  },
  "language_info": {
   "codemirror_mode": {
    "name": "ipython",
    "version": 3
   },
   "file_extension": ".py",
   "mimetype": "text/x-python",
   "name": "python",
   "nbconvert_exporter": "python",
   "pygments_lexer": "ipython3",
   "version": "3.8.3"
  }
 },
 "nbformat": 4,
 "nbformat_minor": 4
}
